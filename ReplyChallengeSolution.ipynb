{
  "nbformat": 4,
  "nbformat_minor": 0,
  "metadata": {
    "kernelspec": {
      "display_name": "Python 3",
      "language": "python",
      "name": "python3"
    },
    "language_info": {
      "codemirror_mode": {
        "name": "ipython",
        "version": 3
      },
      "file_extension": ".py",
      "mimetype": "text/x-python",
      "name": "python",
      "nbconvert_exporter": "python",
      "pygments_lexer": "ipython3",
      "version": "3.7.4"
    },
    "colab": {
      "name": "ReplyChallengeSolution.ipynb",
      "provenance": [],
      "collapsed_sections": [
        "WnaDHF3Xmk3n",
        "DSCHNstFq9ql",
        "9qO_Mk0gsBYN",
        "NO90U9iTvmlc"
      ]
    }
  },
  "cells": [
    {
      "cell_type": "markdown",
      "metadata": {
        "id": "NGofgJVgih9_",
        "colab_type": "text"
      },
      "source": [
        "# Reply Challenge 2020 Standard Edition\n",
        "\n",
        "---\n",
        "[Contest Page](https://challenges.reply.com/tamtamy/challenges/category/coding.action)\n",
        "\n",
        "\n",
        "**Question:** Planning Open Spaces <br>\n",
        "\n",
        "The aim of this problem is to assign Replyers, either Developers or Project\n",
        "Managers (PM), to empty seats in the Reply office in the most efficient way.\n",
        "<br>\n",
        "\n",
        "**Techniques Used:** Greedy approach and Sorting <br>\n",
        "**Coded by:** Siddharth Sriraman, Vanathi G, Aditya Krishna P, Venkataraman N<br>\n",
        "\n",
        "\n"
      ]
    },
    {
      "cell_type": "code",
      "metadata": {
        "id": "geUffwP6kXbw",
        "colab_type": "code",
        "outputId": "fc29af78-89db-400b-934e-fb35d21a1e96",
        "colab": {
          "base_uri": "https://localhost:8080/",
          "height": 34
        }
      },
      "source": [
        "print('Using:', end=' ')\n",
        "! python --version"
      ],
      "execution_count": 0,
      "outputs": [
        {
          "output_type": "stream",
          "text": [
            "Using: Python 3.6.9\n"
          ],
          "name": "stdout"
        }
      ]
    },
    {
      "cell_type": "markdown",
      "metadata": {
        "id": "jW_u-APApL1w",
        "colab_type": "text"
      },
      "source": [
        "# Table of Contents:\n",
        "---\n",
        "**Links:**\n",
        "\n",
        "1.   [Global variables/Helper functions](#scrollTo=jW_u-APApL1w)\n",
        "2.   [Class Definitions](#scrollTo=WnaDHF3Xmk3n)\n",
        "3.   [Parsing the Input File](#scrollTo=DSCHNstFq9ql)\n",
        "4.   [Main Logic and Formatting the Output](#scrollTo=9qO_Mk0gsBYN)\n",
        "5.   [Writing Output to File](#scrollTo=NO90U9iTvmlc)\n",
        "\n",
        "**Final Score**: \n",
        "* Total Score: 13.610.670\n",
        "* Leaderboard Position: 171"
      ]
    },
    {
      "cell_type": "code",
      "metadata": {
        "id": "MiNeMjQLiYcu",
        "colab_type": "code",
        "colab": {}
      },
      "source": [
        "# Global variables and helper functions:\n",
        "\n",
        "# file names as defined in the question\n",
        "# assuming these files are in the pwd\n",
        "\n",
        "files = ['a_solar.txt', 'b_dream.txt', 'c_soup.txt', 'd_maelstrom.txt', 'e_igloos.txt', 'f_glitch.txt']\n",
        "\n",
        "# sorting key function\n",
        "def sum_func(x):\n",
        "    # sums up the bonuses of either a ProductManager or a Developer (or both) in the list\n",
        "    s = sum([i.bonus for i in x[0]]) \n",
        "\n",
        "    # if the other object type exists in the list too, add that bonus sum as well\n",
        "    if len(x) > 1:\n",
        "        s += sum([i.bonus for i in x[1]])\n",
        "\n",
        "    return s"
      ],
      "execution_count": 0,
      "outputs": []
    },
    {
      "cell_type": "markdown",
      "metadata": {
        "id": "WnaDHF3Xmk3n",
        "colab_type": "text"
      },
      "source": [
        "# Class Definitions\n",
        "---\n",
        "### Classes used:\n",
        "*   Developer\n",
        "*   Product Manager\n",
        "\n",
        "### Misc. info:\n",
        "* Decided to use classes to reduce dependence on separate arrays for each attribute.\n",
        "* `pos` variable has the index of the developer/product manager, this makes printing the order in the [final output](#scrollTo=9qO_Mk0gsBYN) easier.\n",
        "* Initialised the coordinates, `x` and `y` to -1, no change in coordinates at the end indicates the unassigned position.\n",
        "```\n",
        "self.pos = pos\n",
        "self.x = -1\n",
        "self.y = -1\n",
        "```\n",
        "\n",
        "\n"
      ]
    },
    {
      "cell_type": "code",
      "metadata": {
        "id": "jIjWAnOYiYc4",
        "colab_type": "code",
        "colab": {}
      },
      "source": [
        "class Developer(object):\n",
        "    '''\n",
        "    company:        company that the developer belongs to.\n",
        "    bonus:          the bonus amount for the developer.\n",
        "    num_skills:     number of skills of the developer.\n",
        "    skills:         list of skills (strings).\n",
        "    pos:            the index of the object (in the input order).\n",
        "    x, y:           the coordinates (to be assigned) for the developer.\n",
        "    '''    \n",
        "    def __init__(self, company: str, bonus: int, num_skills: int, skills: list, pos: int):\n",
        "        self.company = company\n",
        "        self.bonus = bonus\n",
        "        self.num_skills = num_skills\n",
        "        self.skills = skills\n",
        "        self.pos = pos\n",
        "        self.x = -1\n",
        "        self.y = -1"
      ],
      "execution_count": 0,
      "outputs": []
    },
    {
      "cell_type": "code",
      "metadata": {
        "id": "XUZOcG0OpVww",
        "colab_type": "code",
        "colab": {}
      },
      "source": [
        "class ProductManager(object):\n",
        "    '''\n",
        "    company:        company that the product manager belongs to.\n",
        "    bonus:          the bonus amount for the product manager.\n",
        "    pos:            the index of the object (in the input order).\n",
        "    x, y:           the coordinates (to be assigned) for the product manager.\n",
        "    '''    \n",
        "    def __init__(self, company: str, bonus: int, pos: int):\n",
        "        self.company = company\n",
        "        self.bonus = bonus\n",
        "        self.pos = pos\n",
        "        self.x = -1\n",
        "        self.y = -1"
      ],
      "execution_count": 0,
      "outputs": []
    },
    {
      "cell_type": "markdown",
      "metadata": {
        "id": "DSCHNstFq9ql",
        "colab_type": "text"
      },
      "source": [
        "# Parsing the Input File: \n",
        "---\n",
        "**Output**:\n",
        "* ```num_dev```: total number of developers\n",
        "* ```num_pm```: total number of product managers\n",
        "* ```num_dev```: total number of developers\n",
        "* ```h```: height (number of rows in the space to fill)\n",
        "* ```w```: width (number of columns in the space to fill)\n",
        "* ```data```: a matrix that contains the spatial data\n",
        "* ```devs```: a list of all the ```Developer``` objects\n",
        "* ```pm```: a list of all the ```ProductManager``` objects\n",
        "*   ```companies_dev```: a dictionary that maps each company to a list of the developers (```Developer``` objects) that work for that company\n",
        "*   ```companies_pm```:  a dictionary that maps each company to a list of product managers (```ProductManager``` objects) that work for that company\n",
        "\n",
        "**Misc. info:**\n",
        "<br>Encoded the data as: \n",
        "* 0 - Blocked cell\n",
        "* 1 - Manager cell\n",
        "* 2 - Developer cell\n",
        "\n"
      ]
    },
    {
      "cell_type": "code",
      "metadata": {
        "id": "Hj6dzg1eiYdB",
        "colab_type": "code",
        "colab": {}
      },
      "source": [
        "def input_data(file_):\n",
        "    f = open(file_, 'r')\n",
        "\n",
        "    # dimensions of the space\n",
        "    w, h = [int(i) for i in f.readline().split()]\n",
        "    \n",
        "    data, devs, pms = [], [], []\n",
        "    companies_pm, companies_dev = {}, {}\n",
        "    \n",
        "    # reading the spatial data\n",
        "    for row in range(h):\n",
        "        line = f.readline()\n",
        "        actual_line = []\n",
        "        for i in line:\n",
        "            if i == '#':\n",
        "                actual_line.append(0)                                               # 0 - BLOCK\n",
        "            elif i == 'M':\n",
        "                actual_line.append(1)                                               # 1 - MANAGER\n",
        "            elif i == '_':\n",
        "                actual_line.append(2)                                               # 2 - DEVELOPER      \n",
        "        data.append(actual_line)\n",
        "    \n",
        "    # generating the list of Developer and ProductManager objects\n",
        "    num_dev = int(f.readline())\n",
        "    for _ in range(num_dev):\n",
        "        dev = f.readline().split()\n",
        "        d = Developer(dev[0], int(dev[1]), int(dev[2]), dev[3:], i)\n",
        "        devs.append(d)\n",
        "        companies_dev.setdefault(dev[0], []).append(d)\n",
        "    \n",
        "    num_pm = int(f.readline())\n",
        "    for _ in range(num_pm):\n",
        "        pm = f.readline().split()\n",
        "        p = ProductManager(pm[0], int(pm[1]), i)\n",
        "        pms.append(p)\n",
        "        companies_pm.setdefault(pm[0], []).append(p)\n",
        "    \n",
        "    return num_dev, num_pm, w, h, data, devs, pms, companies_pm, companies_dev"
      ],
      "execution_count": 0,
      "outputs": []
    },
    {
      "cell_type": "markdown",
      "metadata": {
        "id": "9qO_Mk0gsBYN",
        "colab_type": "text"
      },
      "source": [
        "# Main Logic and Formatting the Output\n",
        "---\n",
        "**Parameters:**\n",
        "*   ```inp```: input file name\n",
        "*   ```out```: output file name\n",
        "\n",
        "\n",
        "\n",
        "**Logic:**\n",
        "\n",
        "1.   Sort each list in the ```companies_dev``` dictionary by bonus then number of skills in reverse order.\n",
        "```\n",
        "companies_dev[i].sort(key=lambda x: (x.bonus, x.num_skills), reverse=True)\n",
        "```\n",
        "\n",
        "\n",
        "2.   Sort each list in ```companies_pm``` by bonus in reverse order.\n",
        "```\n",
        "companies_pm[i].sort(key=lambda x: x.bonus, reverse=True)\n",
        "```\n",
        "3. Combine the ```companies_pm``` and ```companies_dev``` into ```combined_list``` and reverse sort based on ```sum_func``` and distribute it back into the final lists.\n",
        "```\n",
        "    final_combined = list(combined_dict.values())\n",
        "    final_combined.sort(key=sum_func, reverse=True)\n",
        "```\n",
        "4. Iterate through the spatial data (left to right, top to bottom) and assign to each ```Developer``` object and ```ProductManager``` the coordinates of the cell where it's applicable.\n",
        "```\n",
        "    for r in range(h):\n",
        "        for c in range(w):\n",
        "            i = data[r][c]\n",
        "            if i == 2 and d_p != num_dev:\n",
        "                final_dev[d_p].x = r\n",
        "                final_dev[d_p].y = c\n",
        "                d_p += 1\n",
        "            elif i == 1 and m_p != num_pm:\n",
        "                final_pm[m_p].x = r\n",
        "                final_pm[m_p].y = c\n",
        "                m_p += 1\n",
        "```\n",
        "5. Sort the final lists on ```pos```, this ensures the order of the objects are in the order given in the input file.\n",
        "```\n",
        "    final_dev.sort(key=lambda x: x.pos)\n",
        "    final_pm.sort(key=lambda x: x.pos)\n",
        "```\n",
        "6. Print the coords in the output file, and use 'X' if the coordinates are not assigned (```x``` and ```y``` remain -1).\n",
        "```\n",
        "    for dev in final_dev:\n",
        "        x, y = dev.x, dev.y\n",
        "        if(x == -1):\n",
        "            f += 'X\\n' # Unassigned object\n",
        "        else:\n",
        "            f += str(y) + ' ' + str(x) + '\\n'\n",
        "```\n",
        "**Improvements that can be made**:\n",
        "\n",
        "* Distributing the objects into the cells can be made in a better way, it doesn't use any optimal method for now\n",
        "\n",
        "\n",
        "\n",
        "\n",
        "\n",
        "\n",
        "\n",
        "\n",
        "\n"
      ]
    },
    {
      "cell_type": "code",
      "metadata": {
        "id": "nVCnUQC0iYdI",
        "colab_type": "code",
        "colab": {}
      },
      "source": [
        "def prod_op(inp, out):\n",
        "    num_dev, num_pm, w, h, data, devs, pms, companies_pm, companies_dev = input_data(inp)\n",
        "\n",
        "    # reverse sorts on list.\n",
        "    for i in companies_dev:\n",
        "        companies_dev[i].sort(key=lambda x: (x.bonus, x.num_skills), reverse=True)\n",
        "    for i in companies_pm:\n",
        "        companies_pm[i].sort(key=lambda x: x.bonus, reverse=True)\n",
        "\n",
        "    final_dev, final_pm = [], []\n",
        "\n",
        "    # index variables\n",
        "    m_p, d_p = 0, 0\n",
        "    combined_dict = {}\n",
        "\n",
        "    for i in companies_dev:\n",
        "        combined_dict.setdefault(i, []).append(companies_dev[i])\n",
        "    for i in companies_pm:\n",
        "        combined_dict.setdefault(i, []).append(companies_pm[i])\n",
        "\n",
        "    # reverse sort the companies on keyfunc\n",
        "    final_combined = list(combined_dict.values())\n",
        "    final_combined.sort(key=sum_func, reverse=True)\n",
        "    for i in final_combined:\n",
        "        if isinstance(i[0][0], Developer):\n",
        "            final_dev.extend(i[0])\n",
        "        elif isinstance(i[0][0], ProductManager):\n",
        "            final_pm.extend(i[1])\n",
        "        if len(i) > 1:\n",
        "            if isinstance(i[1][0], Developer):\n",
        "                final_dev.extend(i[1])\n",
        "            elif isinstance(i[1][0], ProductManager):\n",
        "                final_pm.extend(i[1])   \n",
        "    \n",
        "    for r in range(h):\n",
        "        for c in range(w):\n",
        "            i = data[r][c]\n",
        "            if i == 2 and d_p != num_dev:\n",
        "                final_dev[d_p].x = r\n",
        "                final_dev[d_p].y = c\n",
        "                d_p += 1\n",
        "            elif i == 1 and m_p != num_pm:\n",
        "                final_pm[m_p].x = r\n",
        "                final_pm[m_p].y = c\n",
        "                m_p += 1\n",
        " \n",
        "    # sort to ensure input order \n",
        "    final_dev.sort(key=lambda x: x.pos)\n",
        "    final_pm.sort(key=lambda x: x.pos)\n",
        "\n",
        "    opfile = open(out, 'w')\n",
        "    f = ''\n",
        "\n",
        "    for dev in final_dev:\n",
        "        x, y = dev.x, dev.y\n",
        "        if(x == -1):\n",
        "            f += 'X\\n' # Unassigned object\n",
        "        else:\n",
        "            f += str(y) + ' ' + str(x) + '\\n'\n",
        "\n",
        "    for pm in final_pm:\n",
        "        x, y = pm.x, pm.y\n",
        "        if(x == -1):\n",
        "            f += 'X\\n' # Unassigned object\n",
        "        else:\n",
        "            f += str(y) + ' ' + str(x) + '\\n'\n",
        "\n",
        "    # final write     \n",
        "    opfile.write(f)"
      ],
      "execution_count": 0,
      "outputs": []
    },
    {
      "cell_type": "markdown",
      "metadata": {
        "id": "NO90U9iTvmlc",
        "colab_type": "text"
      },
      "source": [
        "# Writing Output to File:\n",
        "---\n",
        "\n",
        "\n",
        "These 6 files along with the code are to be submitted.\n",
        "\n",
        "\n",
        "**Final scores:**\n",
        "\n",
        ">| **File:**   |  **Score:**  |\n",
        "|---------|----------|\n",
        "|a_solar.txt|22|\n",
        "|b_dream.txt|1,709,888|\n",
        "|c_soup.txt|337,591|\n",
        "|d_maelstrom.txt|4,640,090|\n",
        "|e_igloos.txt|1,811,600|\n",
        "|f_glitch.txt|\t5,111,479|\n",
        "\n",
        "\n"
      ]
    },
    {
      "cell_type": "code",
      "metadata": {
        "id": "7SQCj-b6iYdP",
        "colab_type": "code",
        "outputId": "cf80aa96-6bdd-489a-f373-3c8386d0d52c",
        "colab": {
          "base_uri": "https://localhost:8080/",
          "height": 34
        }
      },
      "source": [
        "for file_ in files:\n",
        "    print(file_)\n",
        "    prod_op(file_, file_[:-4]+'_output.txt')"
      ],
      "execution_count": 0,
      "outputs": [
        {
          "output_type": "stream",
          "text": [
            "b_dream.txt\n"
          ],
          "name": "stdout"
        }
      ]
    }
  ]
}